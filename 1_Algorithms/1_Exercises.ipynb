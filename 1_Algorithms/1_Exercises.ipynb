{
 "cells": [
  {
   "cell_type": "markdown",
   "id": "38e188a5",
   "metadata": {},
   "source": [
    "# Exercise 00\n",
    "Write a piece of code that allocates a list of 20 integers and initializes each element by its index multiplied by 5. Print the result."
   ]
  },
  {
   "cell_type": "code",
   "execution_count": 3,
   "id": "01aa4f35",
   "metadata": {},
   "outputs": [
    {
     "name": "stdout",
     "output_type": "stream",
     "text": [
      "[0, 5, 10, 15, 20, 25, 30, 35, 40, 45, 50, 55, 60, 65, 70, 75, 80, 85, 90, 95]\n"
     ]
    }
   ],
   "source": [
    "integersList = []\n",
    "for i in range(20):\n",
    "    integersList.append(i*5)\n",
    "\n",
    "print (integersList)"
   ]
  },
  {
   "cell_type": "markdown",
   "id": "529d91ae",
   "metadata": {},
   "source": [
    "# Exercise 01\n",
    "Define a function that takes an integer as input, prints  all integers that it is divisable by, and returns the largest one."
   ]
  },
  {
   "cell_type": "code",
   "execution_count": 45,
   "id": "30e79132",
   "metadata": {},
   "outputs": [
    {
     "name": "stdin",
     "output_type": "stream",
     "text": [
      "Insert a number 9\n"
     ]
    },
    {
     "name": "stdout",
     "output_type": "stream",
     "text": [
      "1\n",
      "3\n",
      "9\n",
      "The largest divisor of 9 is 9\n"
     ]
    }
   ],
   "source": [
    "n = int(input(\"Insert a number\"))  \n",
    "\n",
    "def find_largest_divisor(n):\n",
    "    divisors = []\n",
    "    \n",
    "    for i in range(1, n + 1):\n",
    "        if n % i == 0:\n",
    "            print(i)\n",
    "            divisors.append(i)\n",
    "    \n",
    "    return max(divisors)\n",
    "\n",
    "largest = find_largest_divisor(n)\n",
    "print(f\"The largest divisor of {n} is {largest}\")\n"
   ]
  },
  {
   "cell_type": "markdown",
   "id": "cfbe30d4",
   "metadata": {},
   "source": [
    "# Exercise 02\n",
    "- create a dictionary with 6 keys and values of your choice\n",
    "- write a function that takes a dictionary and a value as input and returns whether the value occurs as a key in the dictionary\n",
    "- write a function that takes a dictionary as input, and returns the dictionary but the keys are swapped with their values (resolve the issue if a value occurs twice!)"
   ]
  },
  {
   "cell_type": "code",
   "execution_count": 1,
   "id": "2123f1c6",
   "metadata": {},
   "outputs": [
    {
     "name": "stdin",
     "output_type": "stream",
     "text": [
      "Insert a value brown\n"
     ]
    },
    {
     "name": "stdout",
     "output_type": "stream",
     "text": [
      "The value occurs\n"
     ]
    }
   ],
   "source": [
    "foodDict = {\n",
    "    'food':'bread',\n",
    "    'price':'2',\n",
    "    'weight':'20',\n",
    "    'color':'brown',\n",
    "    'calories':'100',\n",
    "    'fat':'12'\n",
    "}\n",
    "\n",
    "user_input = input(\"Insert a value\")\n",
    "\n",
    "if user_input in foodDict.values():\n",
    "    print(\"The value occurs\")\n",
    "else:\n",
    "    print(\"The value does not occur\")\n"
   ]
  },
  {
   "cell_type": "code",
   "execution_count": 76,
   "id": "5ea4be87-5eb1-4577-a533-c9bdf0e91d7e",
   "metadata": {},
   "outputs": [
    {
     "name": "stdout",
     "output_type": "stream",
     "text": [
      "Is 'bread' a key?: False\n",
      "Swapped dictionary: {'bread': 'food', '2': 'price', '20': 'weight', 'brown': 'color', '100': 'calories', '12': 'fat'}\n"
     ]
    }
   ],
   "source": [
    "\n",
    "my_dict = {\n",
    "    'food':'bread',\n",
    "    'price':'2',\n",
    "    'weight':'20',\n",
    "    'color':'brown',\n",
    "    'calories':'100',\n",
    "    'fat':'12'\n",
    "}\n",
    "\n",
    "def is_value_a_key(dictionary, value):\n",
    "    return value in dictionary\n",
    "\n",
    "def swap_keys_values(dictionary):\n",
    "    new_dict = {}\n",
    "    for key, value in dictionary.items():\n",
    "        if value in new_dict:\n",
    "            new_dict[f\"{value}_duplicate\"] = key\n",
    "        else:\n",
    "            new_dict[value] = key\n",
    "    return new_dict\n",
    "\n",
    "value_to_check = \"bread\"\n",
    "print(f\"Is '{value_to_check}' a key?:\", is_value_a_key(my_dict, value_to_check))\n",
    "\n",
    "swapped_dict = swap_keys_values(my_dict)\n",
    "print(\"Swapped dictionary:\", swapped_dict)\n"
   ]
  },
  {
   "cell_type": "markdown",
   "id": "b4b4e426",
   "metadata": {},
   "source": [
    "# Exercise 03\n",
    "Define a function that creates a dictionary of the first n fibonacci numbers as values paired with their indices as keys. "
   ]
  },
  {
   "cell_type": "code",
   "execution_count": 23,
   "id": "7845b5a4",
   "metadata": {},
   "outputs": [
    {
     "name": "stdin",
     "output_type": "stream",
     "text": [
      "Insert how many Fibonacci numbers 10\n"
     ]
    },
    {
     "name": "stdout",
     "output_type": "stream",
     "text": [
      "{0: 0, 1: 1, 2: 1, 3: 2, 4: 3, 5: 5, 6: 8, 7: 13, 8: 21, 9: 34}\n"
     ]
    }
   ],
   "source": [
    "def fibonacci_dict(n):\n",
    "    fib_dict = {}\n",
    "    a, b = 0, 1\n",
    "    for i in range(n):\n",
    "        fib_dict[i] = a\n",
    "        a, b = b, a + b\n",
    "    return fib_dict\n",
    "    \n",
    "n = int(input(\"Insert how many Fibonacci numbers\"))\n",
    "fib_numbers = fibonacci_dict(n)\n",
    "print(fib_numbers)\n"
   ]
  },
  {
   "cell_type": "code",
   "execution_count": 25,
   "id": "57141333-2dbc-42fb-938d-cade58ff72a3",
   "metadata": {},
   "outputs": [
    {
     "name": "stdout",
     "output_type": "stream",
     "text": [
      "Requirement already satisfied: pygame in c:\\users\\usuario\\anaconda3\\lib\\site-packages (2.6.1)\n"
     ]
    }
   ],
   "source": [
    "!pip install pygame"
   ]
  },
  {
   "cell_type": "code",
   "execution_count": null,
   "id": "0ee7c70f-6597-4d49-be1e-973e8a6511b3",
   "metadata": {},
   "outputs": [],
   "source": [
    "!python Wall_E/wall_eGame.py"
   ]
  },
  {
   "cell_type": "code",
   "execution_count": null,
   "id": "2d51fee3-4f24-480a-96d4-caf4f474bd4e",
   "metadata": {},
   "outputs": [],
   "source": []
  }
 ],
 "metadata": {
  "kernelspec": {
   "display_name": "Python 3 (ipykernel)",
   "language": "python",
   "name": "python3"
  },
  "language_info": {
   "codemirror_mode": {
    "name": "ipython",
    "version": 3
   },
   "file_extension": ".py",
   "mimetype": "text/x-python",
   "name": "python",
   "nbconvert_exporter": "python",
   "pygments_lexer": "ipython3",
   "version": "3.12.4"
  }
 },
 "nbformat": 4,
 "nbformat_minor": 5
}
